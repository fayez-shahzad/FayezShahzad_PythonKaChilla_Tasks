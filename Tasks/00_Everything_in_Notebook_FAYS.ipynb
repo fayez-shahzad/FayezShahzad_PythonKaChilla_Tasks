{
 "cells": [
  {
   "cell_type": "markdown",
   "metadata": {},
   "source": [
    "# Participant\n",
    "Title = \"Mr.\"\n",
    "\n",
    "Name = \"Fayez Shahzad\"\n",
    "\n",
    "email = \"fayez2010@hotmail.com\"\n",
    "\n",
    "whatsapp = \"00923315877788\""
   ]
  },
  {
   "cell_type": "code",
   "execution_count": null,
   "metadata": {},
   "outputs": [],
   "source": [
    "# checking if the file saves in main or master branch"
   ]
  }
 ],
 "metadata": {
  "language_info": {
   "name": "python"
  },
  "orig_nbformat": 4
 },
 "nbformat": 4,
 "nbformat_minor": 2
}
